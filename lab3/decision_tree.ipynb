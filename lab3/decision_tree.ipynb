{
 "cells": [
  {
   "cell_type": "code",
   "execution_count": null,
   "metadata": {},
   "outputs": [],
   "source": [
    "import os\n",
    "from tqdm import tqdm\n",
    "from glob import glob\n",
    "\n",
    "import numpy as np\n",
    "import pandas as pd\n",
    "\n",
    "from sklearn.tree import DecisionTreeClassifier\n",
    "from sklearn.model_selection import cross_val_score\n",
    "\n",
    "import cv2\n",
    "from PIL import Image\n",
    "import matplotlib.pyplot as plt\n",
    "import seaborn as sns"
   ]
  },
  {
   "cell_type": "code",
   "execution_count": null,
   "metadata": {},
   "outputs": [],
   "source": [
    "df = pd.read_parquet(\"./processed_dfs/coin_features_df_extract_features_7_1.parquet\")\n",
    "\"\"\"df['img_type'] = df['img_type'].replace({\"Nickels\": '',\n",
    "                                         \"quarters\": 25,\n",
    "                                         \"Cents\": 1})\"\"\"\n",
    "df = df.drop(columns = ['img'])\n",
    "df.shape"
   ]
  },
  {
   "cell_type": "code",
   "execution_count": null,
   "metadata": {},
   "outputs": [],
   "source": [
    "y_col = \"img_type\"\n",
    "X_cols = df.drop(columns = [y_col]).columns\n",
    "\n",
    "clf = DecisionTreeClassifier(random_state=0)\n",
    "cross_val_score(clf, df[X_cols], df[y_col], cv = 5)"
   ]
  },
  {
   "cell_type": "code",
   "execution_count": null,
   "metadata": {},
   "outputs": [],
   "source": [
    "clf = clf.fit(df[X_cols], df[y_col])"
   ]
  },
  {
   "cell_type": "code",
   "execution_count": null,
   "metadata": {},
   "outputs": [],
   "source": [
    "feature_importances = clf.feature_importances_"
   ]
  },
  {
   "cell_type": "code",
   "execution_count": null,
   "metadata": {},
   "outputs": [],
   "source": [
    "import seaborn as sns\n",
    "\n",
    "# Sort the feature importances from greatest to least using the sorted indices\n",
    "sorted_indices = feature_importances.argsort()[::-1][:20]\n",
    "sorted_feature_names = clf.feature_names_in_[sorted_indices]\n",
    "sorted_importances = feature_importances[sorted_indices]\n",
    "\n",
    "# Create a bar plot of the feature importances\n",
    "sns.set(rc={'figure.figsize':(11.7,8.27)})\n",
    "sns.barplot(y = sorted_feature_names, x = sorted_importances)"
   ]
  },
  {
   "cell_type": "code",
   "execution_count": null,
   "metadata": {},
   "outputs": [],
   "source": [
    "from sklearn.tree import plot_tree\n",
    "\n",
    "y_col = \"img_type\"\n",
    "X_cols = sorted_feature_names\n",
    "\n",
    "clf = DecisionTreeClassifier(max_depth = 3)\n",
    "cross_val_score(clf, df[X_cols], df[y_col], cv = 5)"
   ]
  },
  {
   "cell_type": "code",
   "execution_count": null,
   "metadata": {},
   "outputs": [],
   "source": [
    "clf.feature_names_in_"
   ]
  },
  {
   "cell_type": "code",
   "execution_count": null,
   "metadata": {},
   "outputs": [],
   "source": [
    "from sklearn.tree import plot_tree\n",
    "\n",
    "clf = clf.fit(df[sorted_feature_names], df[y_col])\n",
    "plot_tree(clf, feature_names = clf.feature_names_in_.tolist(), class_names = clf.classes_.tolist(), filled = True)\n",
    "plt.title(\"Decision tree trained on all the iris features\")\n",
    "plt.show()"
   ]
  },
  {
   "cell_type": "code",
   "execution_count": null,
   "metadata": {},
   "outputs": [],
   "source": [
    "df[sorted_feature_names], df[y_col]"
   ]
  },
  {
   "cell_type": "code",
   "execution_count": null,
   "metadata": {},
   "outputs": [],
   "source": [
    "g = sns.pairplot(df[sorted_feature_names.tolist() + [y_col]], hue = y_col, \n",
    "                 palette = \"Set2\", diag_kind = \"kde\", height = 2.5)"
   ]
  },
  {
   "cell_type": "code",
   "execution_count": null,
   "metadata": {},
   "outputs": [],
   "source": []
  }
 ],
 "metadata": {
  "kernelspec": {
   "display_name": "Python 3",
   "language": "python",
   "name": "python3"
  },
  "language_info": {
   "codemirror_mode": {
    "name": "ipython",
    "version": 3
   },
   "file_extension": ".py",
   "mimetype": "text/x-python",
   "name": "python",
   "nbconvert_exporter": "python",
   "pygments_lexer": "ipython3",
   "version": "3.9.18"
  }
 },
 "nbformat": 4,
 "nbformat_minor": 2
}
